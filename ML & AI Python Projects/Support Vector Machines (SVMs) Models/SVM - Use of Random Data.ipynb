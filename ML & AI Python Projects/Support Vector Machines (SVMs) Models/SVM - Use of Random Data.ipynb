{
 "cells": [
  {
   "cell_type": "code",
   "execution_count": 1,
   "metadata": {},
   "outputs": [],
   "source": [
    "# Needed libraries:\n",
    "\n",
    "from sklearn import preprocessing\n",
    "from sklearn.model_selection import train_test_split\n",
    "import numpy as np\n",
    "import pandas as pd\n",
    "%matplotlib inline\n",
    "import matplotlib.pyplot as plt\n"
   ]
  },
  {
   "cell_type": "code",
   "execution_count": 11,
   "metadata": {},
   "outputs": [
    {
     "data": {
      "text/html": [
       "<div>\n",
       "<style scoped>\n",
       "    .dataframe tbody tr th:only-of-type {\n",
       "        vertical-align: middle;\n",
       "    }\n",
       "\n",
       "    .dataframe tbody tr th {\n",
       "        vertical-align: top;\n",
       "    }\n",
       "\n",
       "    .dataframe thead th {\n",
       "        text-align: right;\n",
       "    }\n",
       "</style>\n",
       "<table border=\"1\" class=\"dataframe\">\n",
       "  <thead>\n",
       "    <tr style=\"text-align: right;\">\n",
       "      <th></th>\n",
       "      <th>0.29166</th>\n",
       "      <th>0.83188</th>\n",
       "      <th>1</th>\n",
       "    </tr>\n",
       "  </thead>\n",
       "  <tbody>\n",
       "    <tr>\n",
       "      <th>90</th>\n",
       "      <td>0.40171</td>\n",
       "      <td>-0.113420</td>\n",
       "      <td>1</td>\n",
       "    </tr>\n",
       "    <tr>\n",
       "      <th>91</th>\n",
       "      <td>0.92458</td>\n",
       "      <td>-0.066475</td>\n",
       "      <td>1</td>\n",
       "    </tr>\n",
       "    <tr>\n",
       "      <th>92</th>\n",
       "      <td>0.50104</td>\n",
       "      <td>-0.970660</td>\n",
       "      <td>0</td>\n",
       "    </tr>\n",
       "    <tr>\n",
       "      <th>93</th>\n",
       "      <td>0.47999</td>\n",
       "      <td>0.328100</td>\n",
       "      <td>1</td>\n",
       "    </tr>\n",
       "    <tr>\n",
       "      <th>94</th>\n",
       "      <td>-0.13625</td>\n",
       "      <td>0.448120</td>\n",
       "      <td>1</td>\n",
       "    </tr>\n",
       "    <tr>\n",
       "      <th>95</th>\n",
       "      <td>0.26853</td>\n",
       "      <td>-0.436730</td>\n",
       "      <td>0</td>\n",
       "    </tr>\n",
       "    <tr>\n",
       "      <th>96</th>\n",
       "      <td>0.60605</td>\n",
       "      <td>-0.476360</td>\n",
       "      <td>1</td>\n",
       "    </tr>\n",
       "    <tr>\n",
       "      <th>97</th>\n",
       "      <td>-0.83224</td>\n",
       "      <td>0.416940</td>\n",
       "      <td>0</td>\n",
       "    </tr>\n",
       "    <tr>\n",
       "      <th>98</th>\n",
       "      <td>0.89093</td>\n",
       "      <td>0.567720</td>\n",
       "      <td>1</td>\n",
       "    </tr>\n",
       "  </tbody>\n",
       "</table>\n",
       "</div>"
      ],
      "text/plain": [
       "    0.29166   0.83188  1\n",
       "90  0.40171 -0.113420  1\n",
       "91  0.92458 -0.066475  1\n",
       "92  0.50104 -0.970660  0\n",
       "93  0.47999  0.328100  1\n",
       "94 -0.13625  0.448120  1\n",
       "95  0.26853 -0.436730  0\n",
       "96  0.60605 -0.476360  1\n",
       "97 -0.83224  0.416940  0\n",
       "98  0.89093  0.567720  1"
      ]
     },
     "execution_count": 11,
     "metadata": {},
     "output_type": "execute_result"
    }
   ],
   "source": [
    "# Loading and analyzing the dataset.:\n",
    "\n",
    "# Placeholder for dataset URL or file path\n",
    "# Replace the following with the actual dataset URL or local file path\n",
    "\n",
    "# Example of using a direct URL\n",
    "# test_dataset = \"https://www.kaggle.com/datasets/piyushkr101200/nn-assign1-2ddata?resource=download\"\n",
    "\n",
    "# Example of using a local file path\n",
    "# test_dataset = \"data//data.csv\"\n",
    "\n",
    "file_path = \"ENTER\\\\THE\\\\PATH\\]\\FOR\\\\THE\\\\DATASET.CSV\"\n",
    "test_dataset = pd.read_csv(file_path)\n",
    "\n",
    "test_dataset.head(9)\n",
    "test_dataset.tail(9)\n",
    "# test_dataset.describe()\n",
    "#test_dataset.dtypes\n"
   ]
  },
  {
   "cell_type": "code",
   "execution_count": 14,
   "metadata": {},
   "outputs": [
    {
     "data": {
      "text/plain": [
       "array([[1],\n",
       "       [0],\n",
       "       [1],\n",
       "       [0],\n",
       "       [0]])"
      ]
     },
     "execution_count": 14,
     "metadata": {},
     "output_type": "execute_result"
    }
   ],
   "source": [
    "# Data selection: Here, we select the features and assign it to X as a numpy array. Next, we assign the target value we want to predict to Y as a numpy array as well. \n",
    "\n",
    "features_df = test_dataset[['0.29166', '0.83188']]\n",
    "X = np.array(features_df)\n",
    "\n",
    "Y = np.array(test_dataset[['1']])\n",
    "Y[0:5] # <----------- This last line simply show the first 5 rows of data of the numpy array Y."
   ]
  },
  {
   "cell_type": "code",
   "execution_count": 34,
   "metadata": {},
   "outputs": [
    {
     "name": "stdout",
     "output_type": "stream",
     "text": [
      "Train set:  (79, 2) (79,)\n",
      "Test set:  (20, 2) (20,)\n"
     ]
    }
   ],
   "source": [
    "# Train/Test split:\n",
    "\n",
    "X_train, X_test, Y_train, Y_test = train_test_split(X, Y, test_size=0.2, random_state=4)\n",
    "\n",
    "# The ravel() function is needed to convert the 2D numpy array for the Y target arrays into 1D which is required. This is NOT required for the feature arrays so they can remain at 2D.\n",
    "Y_train = Y_train.ravel()\n",
    "Y_test = Y_test.ravel()\n",
    "\n",
    "print(\"Train set: \", X_train.shape, Y_train.shape)\n",
    "print(\"Test set: \", X_test.shape, Y_test.shape)"
   ]
  },
  {
   "cell_type": "code",
   "execution_count": 33,
   "metadata": {},
   "outputs": [
    {
     "data": {
      "text/plain": [
       "array([1, 1, 0, 0, 0])"
      ]
     },
     "execution_count": 33,
     "metadata": {},
     "output_type": "execute_result"
    }
   ],
   "source": [
    "# SVM Modeling with Sckit-learn\n",
    "\n",
    "from sklearn import svm\n",
    "clf = svm.SVC(kernel='rbf')\n",
    "clf.fit(X_train, Y_train)\n",
    "\n",
    "# Now that the model is fitted, it can be used to predict new values.:\n",
    "\n",
    "yhat = clf.predict(X_test)\n",
    "yhat[0:5]"
   ]
  },
  {
   "cell_type": "code",
   "execution_count": 41,
   "metadata": {},
   "outputs": [
    {
     "name": "stdout",
     "output_type": "stream",
     "text": [
      "0.9503836317135551\n",
      "0.8888888888888888\n"
     ]
    }
   ],
   "source": [
    "# Evaluating the model.:\n",
    "\n",
    "from sklearn.metrics import jaccard_score\n",
    "from sklearn.metrics import f1_score\n",
    "\n",
    "print(f1_score(Y_test, yhat, average='weighted'))\n",
    "print(jaccard_score(Y_test, yhat, pos_label=1))"
   ]
  },
  {
   "cell_type": "code",
   "execution_count": 43,
   "metadata": {},
   "outputs": [
    {
     "data": {
      "image/png": "[encoded data removed]",
      "text/plain": [
       "<Figure size 640x480 with 1 Axes>"
      ]
     },
     "metadata": {},
     "output_type": "display_data"
    }
   ],
   "source": [
    "# Plotting the SVM with matplotlib\n",
    "\n",
    "def custom_plot(X, Y, model):\n",
    "    h = 0.2\n",
    "    x_min, x_max = X[:, 0].min() - 1, X[:, 0].max() + 1\n",
    "    y_min, y_max = X[:, 0].min() - 1, X[:, 0].max() + 1\n",
    "\n",
    "    xx, yy = np.meshgrid(np.arange(x_min, x_max, h), np.arange(y_min, y_max, h))\n",
    "\n",
    "    # Predict the function value for the whole grid\n",
    "    Z = model.predict(np.c_[xx.ravel(), yy.ravel()])\n",
    "    Z = Z.reshape(xx.shape)\n",
    "    \n",
    "    plt.contourf(xx, yy, Z, cmap=plt.cm.coolwarm, alpha=0.8)\n",
    "    plt.scatter(X[:, 0], X[:, 1], c=Y, cmap=plt.cm.coolwarm, s=20, edgecolors='k')\n",
    "    plt.xlim(xx.min(), xx.max())\n",
    "    plt.ylim(yy.min(), yy.max())\n",
    "    plt.title('SVM Decision Boundary')\n",
    "    plt.show()\n",
    "\n",
    "# Call the plot function\n",
    "custom_plot(X_test, Y_test, clf)"
   ]
  }
 ],
 "metadata": {
  "kernelspec": {
   "display_name": "Python 3",
   "language": "python",
   "name": "python3"
  },
  "language_info": {
   "codemirror_mode": {
    "name": "ipython",
    "version": 3
   },
   "file_extension": ".py",
   "mimetype": "text/x-python",
   "name": "python",
   "nbconvert_exporter": "python",
   "pygments_lexer": "ipython3",
   "version": "3.12.3"
  }
 },
 "nbformat": 4,
 "nbformat_minor": 2
}
